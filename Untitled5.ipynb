{
  "nbformat": 4,
  "nbformat_minor": 0,
  "metadata": {
    "colab": {
      "name": "Untitled5.ipynb",
      "provenance": [],
      "collapsed_sections": []
    },
    "kernelspec": {
      "name": "python3",
      "display_name": "Python 3"
    }
  },
  "cells": [
    {
      "cell_type": "code",
      "metadata": {
        "id": "RsOsKJmyTNCi",
        "colab_type": "code",
        "outputId": "cdf02670-2e3a-4983-f499-0ca8a002b623",
        "colab": {
          "base_uri": "https://localhost:8080/",
          "height": 1000
        }
      },
      "source": [
        "!pip install tfx==0.21.0 pyarrow==0.15 #tensorflow==2.1 tensorboard==2.1"
      ],
      "execution_count": 0,
      "outputs": [
        {
          "output_type": "stream",
          "text": [
            "Requirement already satisfied: tfx==0.21.0 in /usr/local/lib/python3.6/dist-packages (0.21.0)\n",
            "Requirement already satisfied: pyarrow==0.15 in /usr/local/lib/python3.6/dist-packages (0.15.0)\n",
            "Requirement already satisfied: docker<5,>=4.1 in /usr/local/lib/python3.6/dist-packages (from tfx==0.21.0) (4.2.0)\n",
            "Requirement already satisfied: six<2,>=1.10 in /usr/local/lib/python3.6/dist-packages (from tfx==0.21.0) (1.12.0)\n",
            "Requirement already satisfied: apache-beam[gcp]<2.18,>=2.17 in /usr/local/lib/python3.6/dist-packages (from tfx==0.21.0) (2.17.0)\n",
            "Requirement already satisfied: grpcio<2,>=1.25 in /usr/local/lib/python3.6/dist-packages (from tfx==0.21.0) (1.28.1)\n",
            "Requirement already satisfied: jinja2<3,>=2.7.3 in /usr/local/lib/python3.6/dist-packages (from tfx==0.21.0) (2.11.1)\n",
            "Requirement already satisfied: tensorflow<3,>=1.15 in /usr/local/lib/python3.6/dist-packages (from tfx==0.21.0) (2.2.0rc2)\n",
            "Requirement already satisfied: tensorflow-data-validation<0.22,>=0.21 in /usr/local/lib/python3.6/dist-packages (from tfx==0.21.0) (0.21.5)\n",
            "Requirement already satisfied: tensorflow-model-analysis<0.22,>=0.21.1 in /usr/local/lib/python3.6/dist-packages (from tfx==0.21.0) (0.21.6)\n",
            "Requirement already satisfied: google-api-python-client<2,>=1.7.8 in /usr/local/lib/python3.6/dist-packages (from tfx==0.21.0) (1.7.12)\n",
            "Requirement already satisfied: tfx-bsl<0.22,>=0.21 in /usr/local/lib/python3.6/dist-packages (from tfx==0.21.0) (0.21.4)\n",
            "Requirement already satisfied: absl-py<0.9,>=0.1.6 in /usr/local/lib/python3.6/dist-packages (from tfx==0.21.0) (0.8.1)\n",
            "Requirement already satisfied: tensorflow-transform<0.22,>=0.21 in /usr/local/lib/python3.6/dist-packages (from tfx==0.21.0) (0.21.2)\n",
            "Requirement already satisfied: avro-python3!=1.9.2,<2.0.0,>=1.8.1; python_version >= \"3.0\" in /usr/local/lib/python3.6/dist-packages (from tfx==0.21.0) (1.9.2.1)\n",
            "Requirement already satisfied: ml-metadata<0.22,>=0.21 in /usr/local/lib/python3.6/dist-packages (from tfx==0.21.0) (0.21.2)\n",
            "Requirement already satisfied: protobuf<4,>=3.7 in /usr/local/lib/python3.6/dist-packages (from tfx==0.21.0) (3.10.0)\n",
            "Requirement already satisfied: tensorflow-serving-api<3,>=1.15 in /usr/local/lib/python3.6/dist-packages (from tfx==0.21.0) (2.1.0)\n",
            "Requirement already satisfied: pyyaml<4,>=3.12 in /usr/local/lib/python3.6/dist-packages (from tfx==0.21.0) (3.13)\n",
            "Requirement already satisfied: click<8,>=7 in /usr/local/lib/python3.6/dist-packages (from tfx==0.21.0) (7.1.1)\n",
            "Requirement already satisfied: numpy>=1.14 in /usr/local/lib/python3.6/dist-packages (from pyarrow==0.15) (1.18.2)\n",
            "Requirement already satisfied: requests!=2.18.0,>=2.14.2 in /usr/local/lib/python3.6/dist-packages (from docker<5,>=4.1->tfx==0.21.0) (2.21.0)\n",
            "Requirement already satisfied: websocket-client>=0.32.0 in /usr/local/lib/python3.6/dist-packages (from docker<5,>=4.1->tfx==0.21.0) (0.57.0)\n",
            "Requirement already satisfied: fastavro<0.22,>=0.21.4 in /usr/local/lib/python3.6/dist-packages (from apache-beam[gcp]<2.18,>=2.17->tfx==0.21.0) (0.21.24)\n",
            "Requirement already satisfied: future<1.0.0,>=0.16.0 in /usr/local/lib/python3.6/dist-packages (from apache-beam[gcp]<2.18,>=2.17->tfx==0.21.0) (0.16.0)\n",
            "Requirement already satisfied: hdfs<3.0.0,>=2.1.0 in /usr/local/lib/python3.6/dist-packages (from apache-beam[gcp]<2.18,>=2.17->tfx==0.21.0) (2.5.8)\n",
            "Requirement already satisfied: pymongo<4.0.0,>=3.8.0 in /usr/local/lib/python3.6/dist-packages (from apache-beam[gcp]<2.18,>=2.17->tfx==0.21.0) (3.10.1)\n",
            "Requirement already satisfied: oauth2client<4,>=2.0.1 in /usr/local/lib/python3.6/dist-packages (from apache-beam[gcp]<2.18,>=2.17->tfx==0.21.0) (3.0.0)\n",
            "Requirement already satisfied: pytz>=2018.3 in /usr/local/lib/python3.6/dist-packages (from apache-beam[gcp]<2.18,>=2.17->tfx==0.21.0) (2018.9)\n",
            "Requirement already satisfied: pydot<2,>=1.2.0 in /usr/local/lib/python3.6/dist-packages (from apache-beam[gcp]<2.18,>=2.17->tfx==0.21.0) (1.3.0)\n",
            "Requirement already satisfied: python-dateutil<3,>=2.8.0 in /usr/local/lib/python3.6/dist-packages (from apache-beam[gcp]<2.18,>=2.17->tfx==0.21.0) (2.8.1)\n",
            "Requirement already satisfied: httplib2<=0.12.0,>=0.8 in /usr/local/lib/python3.6/dist-packages (from apache-beam[gcp]<2.18,>=2.17->tfx==0.21.0) (0.12.0)\n",
            "Requirement already satisfied: mock<3.0.0,>=1.0.1 in /usr/local/lib/python3.6/dist-packages (from apache-beam[gcp]<2.18,>=2.17->tfx==0.21.0) (2.0.0)\n",
            "Requirement already satisfied: dill<0.3.1,>=0.3.0 in /usr/local/lib/python3.6/dist-packages (from apache-beam[gcp]<2.18,>=2.17->tfx==0.21.0) (0.3.0)\n",
            "Requirement already satisfied: crcmod<2.0,>=1.7 in /usr/local/lib/python3.6/dist-packages (from apache-beam[gcp]<2.18,>=2.17->tfx==0.21.0) (1.7)\n",
            "Requirement already satisfied: google-cloud-bigquery<1.18.0,>=1.6.0; extra == \"gcp\" in /usr/local/lib/python3.6/dist-packages (from apache-beam[gcp]<2.18,>=2.17->tfx==0.21.0) (1.17.1)\n",
            "Requirement already satisfied: google-apitools<0.5.29,>=0.5.28; extra == \"gcp\" in /usr/local/lib/python3.6/dist-packages (from apache-beam[gcp]<2.18,>=2.17->tfx==0.21.0) (0.5.28)\n",
            "Requirement already satisfied: google-cloud-datastore<1.8.0,>=1.7.1; extra == \"gcp\" in /usr/local/lib/python3.6/dist-packages (from apache-beam[gcp]<2.18,>=2.17->tfx==0.21.0) (1.7.4)\n",
            "Requirement already satisfied: google-cloud-bigtable<1.1.0,>=0.31.1; extra == \"gcp\" in /usr/local/lib/python3.6/dist-packages (from apache-beam[gcp]<2.18,>=2.17->tfx==0.21.0) (1.0.0)\n",
            "Requirement already satisfied: cachetools<4,>=3.1.0; extra == \"gcp\" in /usr/local/lib/python3.6/dist-packages (from apache-beam[gcp]<2.18,>=2.17->tfx==0.21.0) (3.1.1)\n",
            "Requirement already satisfied: google-cloud-core<2,>=0.28.1; extra == \"gcp\" in /usr/local/lib/python3.6/dist-packages (from apache-beam[gcp]<2.18,>=2.17->tfx==0.21.0) (1.0.3)\n",
            "Requirement already satisfied: google-cloud-pubsub<1.1.0,>=0.39.0; extra == \"gcp\" in /usr/local/lib/python3.6/dist-packages (from apache-beam[gcp]<2.18,>=2.17->tfx==0.21.0) (1.0.2)\n",
            "Requirement already satisfied: MarkupSafe>=0.23 in /usr/local/lib/python3.6/dist-packages (from jinja2<3,>=2.7.3->tfx==0.21.0) (1.1.1)\n",
            "Requirement already satisfied: google-pasta>=0.1.8 in /usr/local/lib/python3.6/dist-packages (from tensorflow<3,>=1.15->tfx==0.21.0) (0.2.0)\n",
            "Requirement already satisfied: keras-preprocessing>=1.1.0 in /usr/local/lib/python3.6/dist-packages (from tensorflow<3,>=1.15->tfx==0.21.0) (1.1.0)\n",
            "Requirement already satisfied: wrapt>=1.11.1 in /usr/local/lib/python3.6/dist-packages (from tensorflow<3,>=1.15->tfx==0.21.0) (1.12.1)\n",
            "Requirement already satisfied: opt-einsum>=2.3.2 in /usr/local/lib/python3.6/dist-packages (from tensorflow<3,>=1.15->tfx==0.21.0) (3.2.0)\n",
            "Requirement already satisfied: tensorflow-estimator<2.3.0,>=2.2.0rc0 in /usr/local/lib/python3.6/dist-packages (from tensorflow<3,>=1.15->tfx==0.21.0) (2.2.0rc0)\n",
            "Requirement already satisfied: tensorboard<2.3.0,>=2.2.0 in /usr/local/lib/python3.6/dist-packages (from tensorflow<3,>=1.15->tfx==0.21.0) (2.2.0)\n",
            "Requirement already satisfied: wheel>=0.26; python_version >= \"3\" in /usr/local/lib/python3.6/dist-packages (from tensorflow<3,>=1.15->tfx==0.21.0) (0.34.2)\n",
            "Requirement already satisfied: astunparse==1.6.3 in /usr/local/lib/python3.6/dist-packages (from tensorflow<3,>=1.15->tfx==0.21.0) (1.6.3)\n",
            "Requirement already satisfied: scipy==1.4.1; python_version >= \"3\" in /usr/local/lib/python3.6/dist-packages (from tensorflow<3,>=1.15->tfx==0.21.0) (1.4.1)\n",
            "Requirement already satisfied: termcolor>=1.1.0 in /usr/local/lib/python3.6/dist-packages (from tensorflow<3,>=1.15->tfx==0.21.0) (1.1.0)\n",
            "Requirement already satisfied: gast==0.3.3 in /usr/local/lib/python3.6/dist-packages (from tensorflow<3,>=1.15->tfx==0.21.0) (0.3.3)\n",
            "Requirement already satisfied: h5py<2.11.0,>=2.10.0 in /usr/local/lib/python3.6/dist-packages (from tensorflow<3,>=1.15->tfx==0.21.0) (2.10.0)\n",
            "Requirement already satisfied: scikit-learn<0.22,>=0.18 in /usr/local/lib/python3.6/dist-packages (from tensorflow-data-validation<0.22,>=0.21->tfx==0.21.0) (0.21.3)\n",
            "Requirement already satisfied: pandas<1,>=0.24 in /usr/local/lib/python3.6/dist-packages (from tensorflow-data-validation<0.22,>=0.21->tfx==0.21.0) (0.25.3)\n",
            "Requirement already satisfied: joblib<0.15,>=0.12 in /usr/local/lib/python3.6/dist-packages (from tensorflow-data-validation<0.22,>=0.21->tfx==0.21.0) (0.14.1)\n",
            "Requirement already satisfied: ipython>=5 in /usr/local/lib/python3.6/dist-packages (from tensorflow-data-validation<0.22,>=0.21->tfx==0.21.0) (5.5.0)\n",
            "Requirement already satisfied: tensorflow-metadata<0.22,>=0.21.1 in /usr/local/lib/python3.6/dist-packages (from tensorflow-data-validation<0.22,>=0.21->tfx==0.21.0) (0.21.1)\n",
            "Requirement already satisfied: ipywidgets<8,>=7 in /usr/local/lib/python3.6/dist-packages (from tensorflow-model-analysis<0.22,>=0.21.1->tfx==0.21.0) (7.5.1)\n",
            "Requirement already satisfied: jupyter<2,>=1 in /usr/local/lib/python3.6/dist-packages (from tensorflow-model-analysis<0.22,>=0.21.1->tfx==0.21.0) (1.0.0)\n",
            "Requirement already satisfied: google-auth-httplib2>=0.0.3 in /usr/local/lib/python3.6/dist-packages (from google-api-python-client<2,>=1.7.8->tfx==0.21.0) (0.0.3)\n",
            "Requirement already satisfied: uritemplate<4dev,>=3.0.0 in /usr/local/lib/python3.6/dist-packages (from google-api-python-client<2,>=1.7.8->tfx==0.21.0) (3.0.1)\n",
            "Requirement already satisfied: google-auth>=1.4.1 in /usr/local/lib/python3.6/dist-packages (from google-api-python-client<2,>=1.7.8->tfx==0.21.0) (1.7.2)\n",
            "Requirement already satisfied: setuptools in /usr/local/lib/python3.6/dist-packages (from protobuf<4,>=3.7->tfx==0.21.0) (46.1.3)\n",
            "Requirement already satisfied: idna<2.9,>=2.5 in /usr/local/lib/python3.6/dist-packages (from requests!=2.18.0,>=2.14.2->docker<5,>=4.1->tfx==0.21.0) (2.8)\n",
            "Requirement already satisfied: urllib3<1.25,>=1.21.1 in /usr/local/lib/python3.6/dist-packages (from requests!=2.18.0,>=2.14.2->docker<5,>=4.1->tfx==0.21.0) (1.24.3)\n",
            "Requirement already satisfied: chardet<3.1.0,>=3.0.2 in /usr/local/lib/python3.6/dist-packages (from requests!=2.18.0,>=2.14.2->docker<5,>=4.1->tfx==0.21.0) (3.0.4)\n",
            "Requirement already satisfied: certifi>=2017.4.17 in /usr/local/lib/python3.6/dist-packages (from requests!=2.18.0,>=2.14.2->docker<5,>=4.1->tfx==0.21.0) (2020.4.5.1)\n",
            "Requirement already satisfied: docopt in /usr/local/lib/python3.6/dist-packages (from hdfs<3.0.0,>=2.1.0->apache-beam[gcp]<2.18,>=2.17->tfx==0.21.0) (0.6.2)\n",
            "Requirement already satisfied: rsa>=3.1.4 in /usr/local/lib/python3.6/dist-packages (from oauth2client<4,>=2.0.1->apache-beam[gcp]<2.18,>=2.17->tfx==0.21.0) (4.0)\n",
            "Requirement already satisfied: pyasn1>=0.1.7 in /usr/local/lib/python3.6/dist-packages (from oauth2client<4,>=2.0.1->apache-beam[gcp]<2.18,>=2.17->tfx==0.21.0) (0.4.8)\n",
            "Requirement already satisfied: pyasn1-modules>=0.0.5 in /usr/local/lib/python3.6/dist-packages (from oauth2client<4,>=2.0.1->apache-beam[gcp]<2.18,>=2.17->tfx==0.21.0) (0.2.8)\n",
            "Requirement already satisfied: pyparsing>=2.1.4 in /usr/local/lib/python3.6/dist-packages (from pydot<2,>=1.2.0->apache-beam[gcp]<2.18,>=2.17->tfx==0.21.0) (2.4.7)\n",
            "Requirement already satisfied: pbr>=0.11 in /usr/local/lib/python3.6/dist-packages (from mock<3.0.0,>=1.0.1->apache-beam[gcp]<2.18,>=2.17->tfx==0.21.0) (5.4.5)\n",
            "Requirement already satisfied: google-resumable-media<0.5.0dev,>=0.3.1 in /usr/local/lib/python3.6/dist-packages (from google-cloud-bigquery<1.18.0,>=1.6.0; extra == \"gcp\"->apache-beam[gcp]<2.18,>=2.17->tfx==0.21.0) (0.4.1)\n",
            "Requirement already satisfied: fasteners>=0.14 in /usr/local/lib/python3.6/dist-packages (from google-apitools<0.5.29,>=0.5.28; extra == \"gcp\"->apache-beam[gcp]<2.18,>=2.17->tfx==0.21.0) (0.15)\n",
            "Requirement already satisfied: google-api-core[grpc]<2.0.0dev,>=1.6.0 in /usr/local/lib/python3.6/dist-packages (from google-cloud-datastore<1.8.0,>=1.7.1; extra == \"gcp\"->apache-beam[gcp]<2.18,>=2.17->tfx==0.21.0) (1.16.0)\n",
            "Requirement already satisfied: grpc-google-iam-v1<0.13dev,>=0.12.3 in /usr/local/lib/python3.6/dist-packages (from google-cloud-bigtable<1.1.0,>=0.31.1; extra == \"gcp\"->apache-beam[gcp]<2.18,>=2.17->tfx==0.21.0) (0.12.3)\n",
            "Requirement already satisfied: werkzeug>=0.11.15 in /usr/local/lib/python3.6/dist-packages (from tensorboard<2.3.0,>=2.2.0->tensorflow<3,>=1.15->tfx==0.21.0) (1.0.1)\n",
            "Requirement already satisfied: tensorboard-plugin-wit>=1.6.0 in /usr/local/lib/python3.6/dist-packages (from tensorboard<2.3.0,>=2.2.0->tensorflow<3,>=1.15->tfx==0.21.0) (1.6.0.post3)\n",
            "Requirement already satisfied: markdown>=2.6.8 in /usr/local/lib/python3.6/dist-packages (from tensorboard<2.3.0,>=2.2.0->tensorflow<3,>=1.15->tfx==0.21.0) (3.2.1)\n",
            "Requirement already satisfied: google-auth-oauthlib<0.5,>=0.4.1 in /usr/local/lib/python3.6/dist-packages (from tensorboard<2.3.0,>=2.2.0->tensorflow<3,>=1.15->tfx==0.21.0) (0.4.1)\n",
            "Requirement already satisfied: traitlets>=4.2 in /usr/local/lib/python3.6/dist-packages (from ipython>=5->tensorflow-data-validation<0.22,>=0.21->tfx==0.21.0) (4.3.3)\n",
            "Requirement already satisfied: decorator in /usr/local/lib/python3.6/dist-packages (from ipython>=5->tensorflow-data-validation<0.22,>=0.21->tfx==0.21.0) (4.4.2)\n",
            "Requirement already satisfied: prompt-toolkit<2.0.0,>=1.0.4 in /usr/local/lib/python3.6/dist-packages (from ipython>=5->tensorflow-data-validation<0.22,>=0.21->tfx==0.21.0) (1.0.18)\n",
            "Requirement already satisfied: pygments in /usr/local/lib/python3.6/dist-packages (from ipython>=5->tensorflow-data-validation<0.22,>=0.21->tfx==0.21.0) (2.1.3)\n",
            "Requirement already satisfied: pexpect; sys_platform != \"win32\" in /usr/local/lib/python3.6/dist-packages (from ipython>=5->tensorflow-data-validation<0.22,>=0.21->tfx==0.21.0) (4.8.0)\n",
            "Requirement already satisfied: simplegeneric>0.8 in /usr/local/lib/python3.6/dist-packages (from ipython>=5->tensorflow-data-validation<0.22,>=0.21->tfx==0.21.0) (0.8.1)\n",
            "Requirement already satisfied: pickleshare in /usr/local/lib/python3.6/dist-packages (from ipython>=5->tensorflow-data-validation<0.22,>=0.21->tfx==0.21.0) (0.7.5)\n",
            "Requirement already satisfied: googleapis-common-protos in /usr/local/lib/python3.6/dist-packages (from tensorflow-metadata<0.22,>=0.21.1->tensorflow-data-validation<0.22,>=0.21->tfx==0.21.0) (1.51.0)\n",
            "Requirement already satisfied: ipykernel>=4.5.1 in /usr/local/lib/python3.6/dist-packages (from ipywidgets<8,>=7->tensorflow-model-analysis<0.22,>=0.21.1->tfx==0.21.0) (4.10.1)\n",
            "Requirement already satisfied: widgetsnbextension~=3.5.0 in /usr/local/lib/python3.6/dist-packages (from ipywidgets<8,>=7->tensorflow-model-analysis<0.22,>=0.21.1->tfx==0.21.0) (3.5.1)\n",
            "Requirement already satisfied: nbformat>=4.2.0 in /usr/local/lib/python3.6/dist-packages (from ipywidgets<8,>=7->tensorflow-model-analysis<0.22,>=0.21.1->tfx==0.21.0) (5.0.5)\n",
            "Requirement already satisfied: jupyter-console in /usr/local/lib/python3.6/dist-packages (from jupyter<2,>=1->tensorflow-model-analysis<0.22,>=0.21.1->tfx==0.21.0) (5.2.0)\n",
            "Requirement already satisfied: notebook in /usr/local/lib/python3.6/dist-packages (from jupyter<2,>=1->tensorflow-model-analysis<0.22,>=0.21.1->tfx==0.21.0) (5.2.2)\n",
            "Requirement already satisfied: nbconvert in /usr/local/lib/python3.6/dist-packages (from jupyter<2,>=1->tensorflow-model-analysis<0.22,>=0.21.1->tfx==0.21.0) (5.6.1)\n",
            "Requirement already satisfied: qtconsole in /usr/local/lib/python3.6/dist-packages (from jupyter<2,>=1->tensorflow-model-analysis<0.22,>=0.21.1->tfx==0.21.0) (4.7.2)\n",
            "Requirement already satisfied: monotonic>=0.1 in /usr/local/lib/python3.6/dist-packages (from fasteners>=0.14->google-apitools<0.5.29,>=0.5.28; extra == \"gcp\"->apache-beam[gcp]<2.18,>=2.17->tfx==0.21.0) (1.5)\n",
            "Requirement already satisfied: requests-oauthlib>=0.7.0 in /usr/local/lib/python3.6/dist-packages (from google-auth-oauthlib<0.5,>=0.4.1->tensorboard<2.3.0,>=2.2.0->tensorflow<3,>=1.15->tfx==0.21.0) (1.3.0)\n",
            "Requirement already satisfied: ipython-genutils in /usr/local/lib/python3.6/dist-packages (from traitlets>=4.2->ipython>=5->tensorflow-data-validation<0.22,>=0.21->tfx==0.21.0) (0.2.0)\n",
            "Requirement already satisfied: wcwidth in /usr/local/lib/python3.6/dist-packages (from prompt-toolkit<2.0.0,>=1.0.4->ipython>=5->tensorflow-data-validation<0.22,>=0.21->tfx==0.21.0) (0.1.9)\n",
            "Requirement already satisfied: ptyprocess>=0.5 in /usr/local/lib/python3.6/dist-packages (from pexpect; sys_platform != \"win32\"->ipython>=5->tensorflow-data-validation<0.22,>=0.21->tfx==0.21.0) (0.6.0)\n",
            "Requirement already satisfied: tornado>=4.0 in /usr/local/lib/python3.6/dist-packages (from ipykernel>=4.5.1->ipywidgets<8,>=7->tensorflow-model-analysis<0.22,>=0.21.1->tfx==0.21.0) (4.5.3)\n",
            "Requirement already satisfied: jupyter-client in /usr/local/lib/python3.6/dist-packages (from ipykernel>=4.5.1->ipywidgets<8,>=7->tensorflow-model-analysis<0.22,>=0.21.1->tfx==0.21.0) (5.3.4)\n",
            "Requirement already satisfied: jsonschema!=2.5.0,>=2.4 in /usr/local/lib/python3.6/dist-packages (from nbformat>=4.2.0->ipywidgets<8,>=7->tensorflow-model-analysis<0.22,>=0.21.1->tfx==0.21.0) (2.6.0)\n",
            "Requirement already satisfied: jupyter-core in /usr/local/lib/python3.6/dist-packages (from nbformat>=4.2.0->ipywidgets<8,>=7->tensorflow-model-analysis<0.22,>=0.21.1->tfx==0.21.0) (4.6.3)\n",
            "Requirement already satisfied: terminado>=0.3.3; sys_platform != \"win32\" in /usr/local/lib/python3.6/dist-packages (from notebook->jupyter<2,>=1->tensorflow-model-analysis<0.22,>=0.21.1->tfx==0.21.0) (0.8.3)\n",
            "Requirement already satisfied: entrypoints>=0.2.2 in /usr/local/lib/python3.6/dist-packages (from nbconvert->jupyter<2,>=1->tensorflow-model-analysis<0.22,>=0.21.1->tfx==0.21.0) (0.3)\n",
            "Requirement already satisfied: bleach in /usr/local/lib/python3.6/dist-packages (from nbconvert->jupyter<2,>=1->tensorflow-model-analysis<0.22,>=0.21.1->tfx==0.21.0) (3.1.4)\n",
            "Requirement already satisfied: pandocfilters>=1.4.1 in /usr/local/lib/python3.6/dist-packages (from nbconvert->jupyter<2,>=1->tensorflow-model-analysis<0.22,>=0.21.1->tfx==0.21.0) (1.4.2)\n",
            "Requirement already satisfied: defusedxml in /usr/local/lib/python3.6/dist-packages (from nbconvert->jupyter<2,>=1->tensorflow-model-analysis<0.22,>=0.21.1->tfx==0.21.0) (0.6.0)\n",
            "Requirement already satisfied: mistune<2,>=0.8.1 in /usr/local/lib/python3.6/dist-packages (from nbconvert->jupyter<2,>=1->tensorflow-model-analysis<0.22,>=0.21.1->tfx==0.21.0) (0.8.4)\n",
            "Requirement already satisfied: testpath in /usr/local/lib/python3.6/dist-packages (from nbconvert->jupyter<2,>=1->tensorflow-model-analysis<0.22,>=0.21.1->tfx==0.21.0) (0.4.4)\n",
            "Requirement already satisfied: qtpy in /usr/local/lib/python3.6/dist-packages (from qtconsole->jupyter<2,>=1->tensorflow-model-analysis<0.22,>=0.21.1->tfx==0.21.0) (1.9.0)\n",
            "Requirement already satisfied: pyzmq>=17.1 in /usr/local/lib/python3.6/dist-packages (from qtconsole->jupyter<2,>=1->tensorflow-model-analysis<0.22,>=0.21.1->tfx==0.21.0) (19.0.0)\n",
            "Requirement already satisfied: oauthlib>=3.0.0 in /usr/local/lib/python3.6/dist-packages (from requests-oauthlib>=0.7.0->google-auth-oauthlib<0.5,>=0.4.1->tensorboard<2.3.0,>=2.2.0->tensorflow<3,>=1.15->tfx==0.21.0) (3.1.0)\n",
            "Requirement already satisfied: webencodings in /usr/local/lib/python3.6/dist-packages (from bleach->nbconvert->jupyter<2,>=1->tensorflow-model-analysis<0.22,>=0.21.1->tfx==0.21.0) (0.5.1)\n"
          ],
          "name": "stdout"
        }
      ]
    },
    {
      "cell_type": "code",
      "metadata": {
        "id": "E5LhFy9vO3TQ",
        "colab_type": "code",
        "colab": {}
      },
      "source": [
        "from __future__ import print_function\n",
        "import sys,tempfile, urllib, os, pyarrow\n",
        "import pandas as pd\n"
      ],
      "execution_count": 0,
      "outputs": []
    },
    {
      "cell_type": "code",
      "metadata": {
        "id": "v1yY_acGPLSE",
        "colab_type": "code",
        "outputId": "8704c640-ef5a-40da-ab3e-e73097220772",
        "colab": {
          "base_uri": "https://localhost:8080/",
          "height": 34
        }
      },
      "source": [
        "sys.version_info.major"
      ],
      "execution_count": 0,
      "outputs": [
        {
          "output_type": "execute_result",
          "data": {
            "text/plain": [
              "3"
            ]
          },
          "metadata": {
            "tags": []
          },
          "execution_count": 3
        }
      ]
    },
    {
      "cell_type": "code",
      "metadata": {
        "id": "9ebs3q5nPPes",
        "colab_type": "code",
        "outputId": "cdba25d9-fc57-4c68-a023-3bdacb0b673f",
        "colab": {
          "base_uri": "https://localhost:8080/",
          "height": 34
        }
      },
      "source": [
        "BASE_DIR = tempfile.mkdtemp(prefix='tfx-data')\n",
        "OUTPUT_FILE = os.path.join(BASE_DIR, 'new_data.csv')\n",
        "print(OUTPUT_FILE)"
      ],
      "execution_count": 0,
      "outputs": [
        {
          "output_type": "stream",
          "text": [
            "/tmp/tfx-dataglnuhkhc/new_data.csv\n"
          ],
          "name": "stdout"
        }
      ]
    },
    {
      "cell_type": "code",
      "metadata": {
        "id": "dz9hFEnnPZpf",
        "colab_type": "code",
        "outputId": "ff16ee15-811e-418a-92b6-3e082300a238",
        "colab": {
          "resources": {
            "http://localhost:8080/nbextensions/google.colab/files.js": {
              "data": "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",
              "ok": true,
              "headers": [
                [
                  "content-type",
                  "application/javascript"
                ]
              ],
              "status": 200,
              "status_text": ""
            }
          },
          "base_uri": "https://localhost:8080/",
          "height": 74
        }
      },
      "source": [
        "from google.colab import files\n",
        "new_data = files.upload()"
      ],
      "execution_count": 0,
      "outputs": [
        {
          "output_type": "display_data",
          "data": {
            "text/html": [
              "\n",
              "     <input type=\"file\" id=\"files-317c99a8-4de2-408b-87dd-5980ded30440\" name=\"files[]\" multiple disabled />\n",
              "     <output id=\"result-317c99a8-4de2-408b-87dd-5980ded30440\">\n",
              "      Upload widget is only available when the cell has been executed in the\n",
              "      current browser session. Please rerun this cell to enable.\n",
              "      </output>\n",
              "      <script src=\"/nbextensions/google.colab/files.js\"></script> "
            ],
            "text/plain": [
              "<IPython.core.display.HTML object>"
            ]
          },
          "metadata": {
            "tags": []
          }
        },
        {
          "output_type": "stream",
          "text": [
            "Saving Cars2.csv to Cars2.csv\n"
          ],
          "name": "stdout"
        }
      ]
    },
    {
      "cell_type": "markdown",
      "metadata": {
        "id": "EJRBt09i-bI9",
        "colab_type": "text"
      },
      "source": [
        "Name of the csv file Uploded should be given in the below statement exactly..."
      ]
    },
    {
      "cell_type": "code",
      "metadata": {
        "id": "l9K2gWJRR2r1",
        "colab_type": "code",
        "colab": {}
      },
      "source": [
        "import io\n",
        "df2 = pd.read_csv(io.BytesIO(new_data['Cars2.csv']), encoding= 'unicode_escape')\n",
        "# Dataset is now stored in a Pandas Dataframe"
      ],
      "execution_count": 0,
      "outputs": []
    },
    {
      "cell_type": "code",
      "metadata": {
        "id": "GiE_SsHIS_r0",
        "colab_type": "code",
        "outputId": "2a2a4220-4a32-4650-f962-e66c4292c49b",
        "colab": {
          "base_uri": "https://localhost:8080/",
          "height": 71
        }
      },
      "source": [
        "import tensorflow_data_validation as tfdv\n",
        "\n",
        "train_stats = tfdv.generate_statistics_from_dataframe(df2)"
      ],
      "execution_count": 0,
      "outputs": [
        {
          "output_type": "stream",
          "text": [
            "/usr/local/lib/python3.6/dist-packages/tensorflow_data_validation/arrow/arrow_util.py:239: FutureWarning: Calling .data on ChunkedArray is provided for compatibility after Column was removed, simply drop this attribute\n",
            "  types.FeaturePath([column_name]), column.data.chunk(0), weights):\n"
          ],
          "name": "stderr"
        }
      ]
    },
    {
      "cell_type": "code",
      "metadata": {
        "id": "upTsifm2XEDE",
        "colab_type": "code",
        "outputId": "4f767304-72e8-4838-81bd-0496a4bf6ead",
        "colab": {
          "base_uri": "https://localhost:8080/",
          "height": 730
        }
      },
      "source": [
        "tfdv.visualize_statistics(train_stats)"
      ],
      "execution_count": 0,
      "outputs": [
        {
          "output_type": "display_data",
          "data": {
            "text/html": [
              "<iframe id='facets-iframe' width=\"100%\" height=\"500px\"></iframe>\n",
              "        <script>\n",
              "        facets_iframe = document.getElementById('facets-iframe');\n",
              "        facets_html = '<script src=\"https://cdnjs.cloudflare.com/ajax/libs/webcomponentsjs/1.3.3/webcomponents-lite.js\"><\\/script><link rel=\"import\" href=\"https://raw.githubusercontent.com/PAIR-code/facets/master/facets-dist/facets-jupyter.html\"><facets-overview proto-input=\"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\"></facets-overview>';\n",
              "        facets_iframe.srcdoc = facets_html;\n",
              "         facets_iframe.id = \"\";\n",
              "         setTimeout(() => {\n",
              "           facets_iframe.setAttribute('height', facets_iframe.contentWindow.document.body.offsetHeight + 'px')\n",
              "         }, 1500)\n",
              "         </script>"
            ],
            "text/plain": [
              "<IPython.core.display.HTML object>"
            ]
          },
          "metadata": {
            "tags": []
          }
        }
      ]
    },
    {
      "cell_type": "code",
      "metadata": {
        "id": "zEDHEp-JXI7e",
        "colab_type": "code",
        "outputId": "2c478890-4fa5-4951-f8f2-e0f390b144f5",
        "colab": {
          "base_uri": "https://localhost:8080/",
          "height": 235
        }
      },
      "source": [
        "schema = tfdv.infer_schema(statistics=train_stats)\n",
        "tfdv.display_schema(schema=schema)"
      ],
      "execution_count": 0,
      "outputs": [
        {
          "output_type": "display_data",
          "data": {
            "text/html": [
              "<div>\n",
              "<style scoped>\n",
              "    .dataframe tbody tr th:only-of-type {\n",
              "        vertical-align: middle;\n",
              "    }\n",
              "\n",
              "    .dataframe tbody tr th {\n",
              "        vertical-align: top;\n",
              "    }\n",
              "\n",
              "    .dataframe thead th {\n",
              "        text-align: right;\n",
              "    }\n",
              "</style>\n",
              "<table border=\"1\" class=\"dataframe\">\n",
              "  <thead>\n",
              "    <tr style=\"text-align: right;\">\n",
              "      <th></th>\n",
              "      <th>Type</th>\n",
              "      <th>Presence</th>\n",
              "      <th>Valency</th>\n",
              "      <th>Domain</th>\n",
              "    </tr>\n",
              "    <tr>\n",
              "      <th>Feature name</th>\n",
              "      <th></th>\n",
              "      <th></th>\n",
              "      <th></th>\n",
              "      <th></th>\n",
              "    </tr>\n",
              "  </thead>\n",
              "  <tbody>\n",
              "    <tr>\n",
              "      <th>'HP'</th>\n",
              "      <td>INT</td>\n",
              "      <td>required</td>\n",
              "      <td></td>\n",
              "      <td>-</td>\n",
              "    </tr>\n",
              "    <tr>\n",
              "      <th>'MPG'</th>\n",
              "      <td>FLOAT</td>\n",
              "      <td>required</td>\n",
              "      <td></td>\n",
              "      <td>-</td>\n",
              "    </tr>\n",
              "    <tr>\n",
              "      <th>'SP'</th>\n",
              "      <td>FLOAT</td>\n",
              "      <td>required</td>\n",
              "      <td></td>\n",
              "      <td>-</td>\n",
              "    </tr>\n",
              "    <tr>\n",
              "      <th>'VOL'</th>\n",
              "      <td>INT</td>\n",
              "      <td>required</td>\n",
              "      <td></td>\n",
              "      <td>-</td>\n",
              "    </tr>\n",
              "    <tr>\n",
              "      <th>'WT'</th>\n",
              "      <td>FLOAT</td>\n",
              "      <td>required</td>\n",
              "      <td></td>\n",
              "      <td>-</td>\n",
              "    </tr>\n",
              "  </tbody>\n",
              "</table>\n",
              "</div>"
            ],
            "text/plain": [
              "               Type  Presence Valency Domain\n",
              "Feature name                                \n",
              "'HP'            INT  required              -\n",
              "'MPG'         FLOAT  required              -\n",
              "'SP'          FLOAT  required              -\n",
              "'VOL'           INT  required              -\n",
              "'WT'          FLOAT  required              -"
            ]
          },
          "metadata": {
            "tags": []
          }
        }
      ]
    },
    {
      "cell_type": "code",
      "metadata": {
        "id": "uYv05hSEXTPA",
        "colab_type": "code",
        "colab": {}
      },
      "source": [
        "import pandas as pd\n",
        "from sklearn.model_selection import train_test_split\n",
        "from tensorflow_data_validation.statistics import stats_options as options"
      ],
      "execution_count": 0,
      "outputs": []
    },
    {
      "cell_type": "code",
      "metadata": {
        "id": "2IGV4-OyXWBM",
        "colab_type": "code",
        "outputId": "0652536f-b354-43ab-e86f-0200c3273089",
        "colab": {
          "base_uri": "https://localhost:8080/",
          "height": 204
        }
      },
      "source": [
        "df2.head()"
      ],
      "execution_count": 0,
      "outputs": [
        {
          "output_type": "execute_result",
          "data": {
            "text/html": [
              "<div>\n",
              "<style scoped>\n",
              "    .dataframe tbody tr th:only-of-type {\n",
              "        vertical-align: middle;\n",
              "    }\n",
              "\n",
              "    .dataframe tbody tr th {\n",
              "        vertical-align: top;\n",
              "    }\n",
              "\n",
              "    .dataframe thead th {\n",
              "        text-align: right;\n",
              "    }\n",
              "</style>\n",
              "<table border=\"1\" class=\"dataframe\">\n",
              "  <thead>\n",
              "    <tr style=\"text-align: right;\">\n",
              "      <th></th>\n",
              "      <th>HP</th>\n",
              "      <th>MPG</th>\n",
              "      <th>VOL</th>\n",
              "      <th>SP</th>\n",
              "      <th>WT</th>\n",
              "    </tr>\n",
              "  </thead>\n",
              "  <tbody>\n",
              "    <tr>\n",
              "      <th>0</th>\n",
              "      <td>49</td>\n",
              "      <td>53.700681</td>\n",
              "      <td>89</td>\n",
              "      <td>104.185353</td>\n",
              "      <td>28.762059</td>\n",
              "    </tr>\n",
              "    <tr>\n",
              "      <th>1</th>\n",
              "      <td>55</td>\n",
              "      <td>50.013401</td>\n",
              "      <td>92</td>\n",
              "      <td>105.461264</td>\n",
              "      <td>30.466833</td>\n",
              "    </tr>\n",
              "    <tr>\n",
              "      <th>2</th>\n",
              "      <td>55</td>\n",
              "      <td>50.013401</td>\n",
              "      <td>92</td>\n",
              "      <td>105.461264</td>\n",
              "      <td>30.193597</td>\n",
              "    </tr>\n",
              "    <tr>\n",
              "      <th>3</th>\n",
              "      <td>70</td>\n",
              "      <td>45.696322</td>\n",
              "      <td>92</td>\n",
              "      <td>113.461264</td>\n",
              "      <td>30.632114</td>\n",
              "    </tr>\n",
              "    <tr>\n",
              "      <th>4</th>\n",
              "      <td>53</td>\n",
              "      <td>50.504232</td>\n",
              "      <td>92</td>\n",
              "      <td>104.461264</td>\n",
              "      <td>29.889149</td>\n",
              "    </tr>\n",
              "  </tbody>\n",
              "</table>\n",
              "</div>"
            ],
            "text/plain": [
              "   HP        MPG  VOL          SP         WT\n",
              "0  49  53.700681   89  104.185353  28.762059\n",
              "1  55  50.013401   92  105.461264  30.466833\n",
              "2  55  50.013401   92  105.461264  30.193597\n",
              "3  70  45.696322   92  113.461264  30.632114\n",
              "4  53  50.504232   92  104.461264  29.889149"
            ]
          },
          "metadata": {
            "tags": []
          },
          "execution_count": 12
        }
      ]
    },
    {
      "cell_type": "code",
      "metadata": {
        "id": "5zFueszpXtKw",
        "colab_type": "code",
        "colab": {}
      },
      "source": [
        "new_train, new_eval = train_test_split(df2, test_size=0.2)"
      ],
      "execution_count": 0,
      "outputs": []
    },
    {
      "cell_type": "code",
      "metadata": {
        "id": "N-5yV-pbX1Pm",
        "colab_type": "code",
        "outputId": "5e34e0a9-7fcb-4900-e844-01b8d321da9a",
        "colab": {
          "base_uri": "https://localhost:8080/",
          "height": 204
        }
      },
      "source": [
        "new_eval.head()"
      ],
      "execution_count": 0,
      "outputs": [
        {
          "output_type": "execute_result",
          "data": {
            "text/html": [
              "<div>\n",
              "<style scoped>\n",
              "    .dataframe tbody tr th:only-of-type {\n",
              "        vertical-align: middle;\n",
              "    }\n",
              "\n",
              "    .dataframe tbody tr th {\n",
              "        vertical-align: top;\n",
              "    }\n",
              "\n",
              "    .dataframe thead th {\n",
              "        text-align: right;\n",
              "    }\n",
              "</style>\n",
              "<table border=\"1\" class=\"dataframe\">\n",
              "  <thead>\n",
              "    <tr style=\"text-align: right;\">\n",
              "      <th></th>\n",
              "      <th>HP</th>\n",
              "      <th>MPG</th>\n",
              "      <th>VOL</th>\n",
              "      <th>SP</th>\n",
              "      <th>WT</th>\n",
              "    </tr>\n",
              "  </thead>\n",
              "  <tbody>\n",
              "    <tr>\n",
              "      <th>78</th>\n",
              "      <td>263</td>\n",
              "      <td>34.000000</td>\n",
              "      <td>50</td>\n",
              "      <td>151.598513</td>\n",
              "      <td>15.769625</td>\n",
              "    </tr>\n",
              "    <tr>\n",
              "      <th>3</th>\n",
              "      <td>70</td>\n",
              "      <td>45.696322</td>\n",
              "      <td>92</td>\n",
              "      <td>113.461264</td>\n",
              "      <td>30.632114</td>\n",
              "    </tr>\n",
              "    <tr>\n",
              "      <th>17</th>\n",
              "      <td>92</td>\n",
              "      <td>39.354094</td>\n",
              "      <td>50</td>\n",
              "      <td>117.598513</td>\n",
              "      <td>16.194122</td>\n",
              "    </tr>\n",
              "    <tr>\n",
              "      <th>68</th>\n",
              "      <td>165</td>\n",
              "      <td>23.103172</td>\n",
              "      <td>123</td>\n",
              "      <td>133.312342</td>\n",
              "      <td>40.472042</td>\n",
              "    </tr>\n",
              "    <tr>\n",
              "      <th>23</th>\n",
              "      <td>81</td>\n",
              "      <td>40.474723</td>\n",
              "      <td>96</td>\n",
              "      <td>113.829145</td>\n",
              "      <td>31.837122</td>\n",
              "    </tr>\n",
              "  </tbody>\n",
              "</table>\n",
              "</div>"
            ],
            "text/plain": [
              "     HP        MPG  VOL          SP         WT\n",
              "78  263  34.000000   50  151.598513  15.769625\n",
              "3    70  45.696322   92  113.461264  30.632114\n",
              "17   92  39.354094   50  117.598513  16.194122\n",
              "68  165  23.103172  123  133.312342  40.472042\n",
              "23   81  40.474723   96  113.829145  31.837122"
            ]
          },
          "metadata": {
            "tags": []
          },
          "execution_count": 15
        }
      ]
    },
    {
      "cell_type": "code",
      "metadata": {
        "id": "K-Ib_qepX6FL",
        "colab_type": "code",
        "outputId": "1fa30abd-8b1e-4144-fa0a-65bcc03a70fd",
        "colab": {
          "base_uri": "https://localhost:8080/",
          "height": 71
        }
      },
      "source": [
        "train_df_stats=tfdv.generate_statistics_from_dataframe(new_train,stats_options=options.StatsOptions())"
      ],
      "execution_count": 0,
      "outputs": [
        {
          "output_type": "stream",
          "text": [
            "/usr/local/lib/python3.6/dist-packages/tensorflow_data_validation/arrow/arrow_util.py:239: FutureWarning: Calling .data on ChunkedArray is provided for compatibility after Column was removed, simply drop this attribute\n",
            "  types.FeaturePath([column_name]), column.data.chunk(0), weights):\n"
          ],
          "name": "stderr"
        }
      ]
    },
    {
      "cell_type": "code",
      "metadata": {
        "id": "Al0GUJBIYBWm",
        "colab_type": "code",
        "outputId": "48edcaa7-de87-4140-8dbf-5c9413e938ae",
        "colab": {
          "base_uri": "https://localhost:8080/",
          "height": 730
        }
      },
      "source": [
        "tfdv.visualize_statistics(train_df_stats)"
      ],
      "execution_count": 0,
      "outputs": [
        {
          "output_type": "display_data",
          "data": {
            "text/html": [
              "<iframe id='facets-iframe' width=\"100%\" height=\"500px\"></iframe>\n",
              "        <script>\n",
              "        facets_iframe = document.getElementById('facets-iframe');\n",
              "        facets_html = '<script src=\"https://cdnjs.cloudflare.com/ajax/libs/webcomponentsjs/1.3.3/webcomponents-lite.js\"><\\/script><link rel=\"import\" href=\"https://raw.githubusercontent.com/PAIR-code/facets/master/facets-dist/facets-jupyter.html\"><facets-overview proto-input=\"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\"></facets-overview>';\n",
              "        facets_iframe.srcdoc = facets_html;\n",
              "         facets_iframe.id = \"\";\n",
              "         setTimeout(() => {\n",
              "           facets_iframe.setAttribute('height', facets_iframe.contentWindow.document.body.offsetHeight + 'px')\n",
              "         }, 1500)\n",
              "         </script>"
            ],
            "text/plain": [
              "<IPython.core.display.HTML object>"
            ]
          },
          "metadata": {
            "tags": []
          }
        }
      ]
    },
    {
      "cell_type": "code",
      "metadata": {
        "id": "RQCxDV-IYFf2",
        "colab_type": "code",
        "outputId": "561cf815-29e4-4a0a-b3e0-cb28c640b58d",
        "colab": {
          "base_uri": "https://localhost:8080/",
          "height": 71
        }
      },
      "source": [
        "eval_df_stats=tfdv.generate_statistics_from_dataframe(new_eval,stats_options=options.StatsOptions())"
      ],
      "execution_count": 0,
      "outputs": [
        {
          "output_type": "stream",
          "text": [
            "/usr/local/lib/python3.6/dist-packages/tensorflow_data_validation/arrow/arrow_util.py:239: FutureWarning: Calling .data on ChunkedArray is provided for compatibility after Column was removed, simply drop this attribute\n",
            "  types.FeaturePath([column_name]), column.data.chunk(0), weights):\n"
          ],
          "name": "stderr"
        }
      ]
    },
    {
      "cell_type": "code",
      "metadata": {
        "id": "Apsa0fXwYQRh",
        "colab_type": "code",
        "outputId": "364cdd30-4ebd-4775-d9d4-5f81bc5c1c72",
        "colab": {
          "base_uri": "https://localhost:8080/",
          "height": 756
        }
      },
      "source": [
        "tfdv.visualize_statistics(lhs_statistics=eval_df_stats, rhs_statistics=train_df_stats,lhs_name='EVAL_DATASET', rhs_name='TRAIN_DATASET')"
      ],
      "execution_count": 0,
      "outputs": [
        {
          "output_type": "display_data",
          "data": {
            "text/html": [
              "<iframe id='facets-iframe' width=\"100%\" height=\"500px\"></iframe>\n",
              "        <script>\n",
              "        facets_iframe = document.getElementById('facets-iframe');\n",
              "        facets_html = '<script src=\"https://cdnjs.cloudflare.com/ajax/libs/webcomponentsjs/1.3.3/webcomponents-lite.js\"><\\/script><link rel=\"import\" href=\"https://raw.githubusercontent.com/PAIR-code/facets/master/facets-dist/facets-jupyter.html\"><facets-overview proto-input=\"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\"></facets-overview>';\n",
              "        facets_iframe.srcdoc = facets_html;\n",
              "         facets_iframe.id = \"\";\n",
              "         setTimeout(() => {\n",
              "           facets_iframe.setAttribute('height', facets_iframe.contentWindow.document.body.offsetHeight + 'px')\n",
              "         }, 1500)\n",
              "         </script>"
            ],
            "text/plain": [
              "<IPython.core.display.HTML object>"
            ]
          },
          "metadata": {
            "tags": []
          }
        }
      ]
    },
    {
      "cell_type": "code",
      "metadata": {
        "id": "Q1zXp2wSYduu",
        "colab_type": "code",
        "outputId": "399e128e-13bb-4e9c-ff98-95fb521b0709",
        "colab": {
          "base_uri": "https://localhost:8080/",
          "height": 57
        }
      },
      "source": [
        "eval_anomalies = tfdv.validate_statistics(statistics=eval_df_stats, schema=schema)\n",
        "\n",
        "tfdv.display_anomalies(eval_anomalies)"
      ],
      "execution_count": 0,
      "outputs": [
        {
          "output_type": "display_data",
          "data": {
            "text/html": [
              "<h4 style=\"color:green;\">No anomalies found.</h4>"
            ],
            "text/plain": [
              "<IPython.core.display.HTML object>"
            ]
          },
          "metadata": {
            "tags": []
          }
        }
      ]
    },
    {
      "cell_type": "code",
      "metadata": {
        "id": "NjFGkiW3YrZ6",
        "colab_type": "code",
        "colab": {}
      },
      "source": [
        "# sf_skew = tfdv.get_feature(schema, 'Column_name')\n",
        "# sf_skew.skew_comparator.infinity_norm.threshold = 0.001\n",
        "\n",
        "# f_comp =tfdv.get_feature(schema, 'Column_name')\n",
        "# f_comp.drift_comparator.infinity_norm.threshold = 0.001\n",
        "\n",
        "# gc_comp =tfdv.get_feature(schema, 'Column_name')\n",
        "# gc_comp.drift_comparator.infinity_norm.threshold = 0.001\n",
        "\n",
        "# skew_anomalies = tfdv.validate_statistics(eval_df_stats, schema,\n",
        "#                                           previous_statistics=train_df_stats)\n",
        "# tfdv.display_anomalies(skew_anomalies)"
      ],
      "execution_count": 0,
      "outputs": []
    },
    {
      "cell_type": "code",
      "metadata": {
        "id": "76LvaPfmYyDF",
        "colab_type": "code",
        "colab": {}
      },
      "source": [
        ""
      ],
      "execution_count": 0,
      "outputs": []
    }
  ]
}